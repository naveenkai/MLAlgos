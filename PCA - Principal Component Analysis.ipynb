{
 "cells": [
  {
   "cell_type": "code",
   "execution_count": 2,
   "id": "ebf5b30b",
   "metadata": {},
   "outputs": [],
   "source": [
    "# mean centric\n",
    "# covariance matrix\n",
    "# eigen values and eigen vectors"
   ]
  },
  {
   "cell_type": "code",
   "execution_count": null,
   "id": "bfa6635a",
   "metadata": {},
   "outputs": [],
   "source": [
    "# mean centric using standard scaler\n",
    "\n",
    "from sklearn.preprocessing import StandardScaler\n",
    "scaler = StandardScaler()\n",
    "\n",
    "df[:,0:3] = scaler.fit_transform(df[:,0:3])"
   ]
  },
  {
   "cell_type": "code",
   "execution_count": null,
   "id": "0864b46e",
   "metadata": {},
   "outputs": [],
   "source": [
    "#covariance matrix\n",
    "\n",
    "covariance_matrix = np.cov([df[:,0],\n",
    "                           df[:,1],\n",
    "                           df[:,2]])"
   ]
  },
  {
   "cell_type": "code",
   "execution_count": null,
   "id": "aae03084",
   "metadata": {},
   "outputs": [],
   "source": [
    "# eigen values and eigen vectors \n",
    "\n",
    "eigen_values, eigen_vectors = np.linalg.eig(covariance_matrix)"
   ]
  },
  {
   "cell_type": "code",
   "execution_count": null,
   "id": "e4e8d4ca",
   "metadata": {},
   "outputs": [],
   "source": [
    "PC = eigen_vectors[:2]\n",
    "\n",
    "transoformed_df = np.dot(df[:,0:3], PC.T)\n",
    "new_df = pd.DataFrame(transoformed_df, columns=['PC1','PC2'])\n",
    "new_df['target'] = df['target'].values"
   ]
  }
 ],
 "metadata": {
  "kernelspec": {
   "display_name": "Python 3 (ipykernel)",
   "language": "python",
   "name": "python3"
  },
  "language_info": {
   "codemirror_mode": {
    "name": "ipython",
    "version": 3
   },
   "file_extension": ".py",
   "mimetype": "text/x-python",
   "name": "python",
   "nbconvert_exporter": "python",
   "pygments_lexer": "ipython3",
   "version": "3.10.9"
  }
 },
 "nbformat": 4,
 "nbformat_minor": 5
}
